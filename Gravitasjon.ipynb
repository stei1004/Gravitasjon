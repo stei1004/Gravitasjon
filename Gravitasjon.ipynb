{
 "cells": [
  {
   "cell_type": "markdown",
   "metadata": {},
   "source": [
    "# Gravitasjons-prosjekt i Programmering og Modellering"
   ]
  },
  {
   "cell_type": "markdown",
   "metadata": {},
   "source": [
    "### _Av Johanne, Linnea, Ståle og Tilde_"
   ]
  },
  {
   "cell_type": "markdown",
   "metadata": {},
   "source": [
    "### Problemstilling: \n",
    "Bruke og endre et datasett fra en nettside for å undersøke om det er mulig å finne gravitasjonskonstanten $\\gamma$ kun ved hjelp av datasettet og formelen for gravitasjonsfeltstyrke $g=\\gamma \\frac{M}{r^2}$."
   ]
  },
  {
   "cell_type": "markdown",
   "metadata": {},
   "source": [
    "Dette er linken til tabellen vi hentet datasettet fra: [NASA planetary factsheet](https://nssdc.gsfc.nasa.gov/planetary/factsheet/)"
   ]
  },
  {
   "cell_type": "markdown",
   "metadata": {},
   "source": [
    "### Introduksjon"
   ]
  },
  {
   "cell_type": "markdown",
   "metadata": {},
   "source": [
    "Gravitasjonskonstanten blir blant annet brukt til å regne på gravitasjonskrefter som virker mellom to gjenstander. Konstanten er universell, og gjelder derfor både i verdensrommet mellom planter, såvel som mellom to gjenstander på jorda. \n",
    "\n",
    "I dette prosjektet skal vi sjekke om vi finner denne konstanten dersom vi bruker verdier hentet fra NASAs datasett om solsystemets planeter, og formelen vi har lært i fysikk 2 for gravitasjonsfeltstyrke, $g=\\gamma \\frac{M}{r^2}$\n",
    "* Her er g gravitasjonsfeltstyrken i m/s^2, M massen til sentrallegemet (altså objektet som omgir seg med gravitasjonsfeltet) i kg og r radien til sentrallegemet. \n",
    "\n",
    "Gravitasjonskonstanten $\\gamma$ er gitt som $6.67 * 10^{-11} $. Det er denne verdien vi skal se om vi finner frem til, ved å bruke NASAs datasett og formelen. Vi skal så analysere og sammenlikne verdiene vi får for å sjekke om problemstillingen stemmer. "
   ]
  },
  {
   "cell_type": "markdown",
   "metadata": {},
   "source": [
    "### Metode"
   ]
  },
  {
   "cell_type": "markdown",
   "metadata": {},
   "source": [
    "##### Hovedtrekk"
   ]
  },
  {
   "cell_type": "markdown",
   "metadata": {},
   "source": [
    "* Først hentet vi ut dataene fra linken, og gjorde om html-koden til string\n",
    "* Så laget vi lister med de aktuelle verdiene, og organiserte verdiene i en tabell\n",
    "* Deretter omformulerte vi formelen, så vi kunne bruke dataene for planetene til å finne $\\gamma$"
   ]
  },
  {
   "cell_type": "markdown",
   "metadata": {},
   "source": [
    "##### Detaljert"
   ]
  },
  {
   "cell_type": "markdown",
   "metadata": {},
   "source": [
    "Det første vi gjorde var å hente inn data fra nettsiden. "
   ]
  },
  {
   "cell_type": "code",
   "execution_count": 2,
   "metadata": {},
   "outputs": [],
   "source": [
    "#Importerer pakkene vi trenger\n",
    "from urllib import request"
   ]
  },
  {
   "cell_type": "code",
   "execution_count": 6,
   "metadata": {},
   "outputs": [
    {
     "name": "stdout",
     "output_type": "stream",
     "text": [
      "200\n",
      "<class 'bytes'>\n",
      "14368\n",
      "<class 'str'>\n"
     ]
    }
   ],
   "source": [
    "#Henter inn all informasjon fra nettsiden, og lagrer html-koden som string\n",
    "planet_side = request.urlopen(\"https://nssdc.gsfc.nasa.gov/planetary/factsheet/\")\n",
    "type(planet_side)\n",
    "print(planet_side.code)  #denne koden sjekker om all dataen er importert uten feil og en output på 200 betyr at alt er importert feilfritt\n",
    "#print(planet_side.peek())  #Denne skriver ut selve koden til nettsiden som vi senere bruker for å se hvor vi skal \"kutte\" dataen\n",
    "planet_data = planet_side.read()\n",
    "print(type(planet_data))\n",
    "print(len(planet_data))\n",
    "planeter = planet_data.decode(\"UTF-8\")\n",
    "print(type(planeter))"
   ]
  },
  {
   "cell_type": "markdown",
   "metadata": {},
   "source": [
    "Her får vi \"str\" som output. Dettte bekrefter at programmet nå har gjort om all html-koden fra nettsiden til en string i python."
   ]
  },
  {
   "cell_type": "markdown",
   "metadata": {},
   "source": [
    "Det neste vi skulle gjøre, var å hente inn dataene. Dette gjorde vi ved å bruke request, og dele opp stringen av html-kode så verdiene i tabellen blir plassert i lister. "
   ]
  },
  {
   "cell_type": "code",
   "execution_count": 26,
   "metadata": {},
   "outputs": [],
   "source": [
    "#Masse\n",
    "n=0\n",
    "liste_masse=[]\n",
    "while True:\n",
    "    n+=1\n",
    "    masse=planeter.split(\"#mass\")[1].split(\"tr>\")[0].split(\"</td>\")[n].split(\">\")[1]\n",
    "    liste_masse.append(masse)\n",
    "    if n>=10:\n",
    "        break\n",
    "        \n",
    "#Diameter\n",
    "n=0\n",
    "liste_diam=[]\n",
    "while True:\n",
    "    n+=1\n",
    "    diam=planeter.split(\"#diam\")[1].split(\"tr>\")[0].split(\"</td>\")[n].split(\">\")[1]\n",
    "    liste_diam.append(diam)\n",
    "    if n>=10:\n",
    "        break        \n",
    "\n",
    "\n",
    "#Tyngde\n",
    "n=0\n",
    "liste_tyngde=[]\n",
    "while True:\n",
    "    n+=1\n",
    "    tyngde=planeter.split(\"#grav\")[1].split(\"tr>\")[0].split(\"</td>\")[n].split(\">\")[1]\n",
    "    liste_tyngde.append(tyngde)\n",
    "    if n>=10:\n",
    "        break      \n"
   ]
  },
  {
   "cell_type": "markdown",
   "metadata": {},
   "source": [
    "På nettsiden vi henter verdiene fra, har de brukt komma som tusenseparatorer for diameter. Python ville derfor ikke gjøre om dette til float, som vi trenger for å jobbe videre med tallene. Vi fjerner kommaene. "
   ]
  },
  {
   "cell_type": "code",
   "execution_count": 30,
   "metadata": {},
   "outputs": [],
   "source": [
    "liste_diam = [i.replace(\",\",\"\") for i in liste_diam] "
   ]
  },
  {
   "cell_type": "markdown",
   "metadata": {},
   "source": [
    "Nå har vi hentet ut verdiene vi trenger fra nettsiden. \n",
    "Vi setter opp verdiene i en tabell, for at de skal være mer oversiktlige."
   ]
  },
  {
   "cell_type": "code",
   "execution_count": 31,
   "metadata": {},
   "outputs": [
    {
     "data": {
      "text/html": [
       "<div>\n",
       "<style scoped>\n",
       "    .dataframe tbody tr th:only-of-type {\n",
       "        vertical-align: middle;\n",
       "    }\n",
       "\n",
       "    .dataframe tbody tr th {\n",
       "        vertical-align: top;\n",
       "    }\n",
       "\n",
       "    .dataframe thead th {\n",
       "        text-align: right;\n",
       "    }\n",
       "</style>\n",
       "<table border=\"1\" class=\"dataframe\">\n",
       "  <thead>\n",
       "    <tr style=\"text-align: right;\">\n",
       "      <th></th>\n",
       "      <th>Merkur</th>\n",
       "      <th>Venus</th>\n",
       "      <th>Jorda</th>\n",
       "      <th>Månen</th>\n",
       "      <th>Mars</th>\n",
       "      <th>Jupiter</th>\n",
       "      <th>Saturn</th>\n",
       "      <th>Uranus</th>\n",
       "      <th>Neptun</th>\n",
       "      <th>Pluto</th>\n",
       "    </tr>\n",
       "  </thead>\n",
       "  <tbody>\n",
       "    <tr>\n",
       "      <th>Masse</th>\n",
       "      <td>0.330</td>\n",
       "      <td>4.87</td>\n",
       "      <td>5.97</td>\n",
       "      <td>0.073</td>\n",
       "      <td>0.642</td>\n",
       "      <td>1898</td>\n",
       "      <td>568</td>\n",
       "      <td>86.8</td>\n",
       "      <td>102</td>\n",
       "      <td>0.0146</td>\n",
       "    </tr>\n",
       "    <tr>\n",
       "      <th>Diameter</th>\n",
       "      <td>4879</td>\n",
       "      <td>12104</td>\n",
       "      <td>12756</td>\n",
       "      <td>3475</td>\n",
       "      <td>6792</td>\n",
       "      <td>142984</td>\n",
       "      <td>120536</td>\n",
       "      <td>51118</td>\n",
       "      <td>49528</td>\n",
       "      <td>2370</td>\n",
       "    </tr>\n",
       "    <tr>\n",
       "      <th>Tyngde</th>\n",
       "      <td>3.7</td>\n",
       "      <td>8.9</td>\n",
       "      <td>9.8</td>\n",
       "      <td>1.6</td>\n",
       "      <td>3.7</td>\n",
       "      <td>23.1</td>\n",
       "      <td>9.0</td>\n",
       "      <td>8.7</td>\n",
       "      <td>11.0</td>\n",
       "      <td>0.7</td>\n",
       "    </tr>\n",
       "  </tbody>\n",
       "</table>\n",
       "</div>"
      ],
      "text/plain": [
       "         Merkur  Venus  Jorda  Månen   Mars Jupiter  Saturn Uranus Neptun  \\\n",
       "Masse     0.330   4.87   5.97  0.073  0.642    1898     568   86.8    102   \n",
       "Diameter   4879  12104  12756   3475   6792  142984  120536  51118  49528   \n",
       "Tyngde      3.7    8.9    9.8    1.6    3.7    23.1     9.0    8.7   11.0   \n",
       "\n",
       "           Pluto  \n",
       "Masse     0.0146  \n",
       "Diameter    2370  \n",
       "Tyngde       0.7  "
      ]
     },
     "execution_count": 31,
     "metadata": {},
     "output_type": "execute_result"
    }
   ],
   "source": [
    "#Bruker pandas for å lage tabell, så vi importerer pakken\n",
    "import pandas as pd\n",
    "\n",
    "lister_planeter=[liste_masse, liste_diam, liste_tyngde]\n",
    "fytab=pd.DataFrame(lister_planeter,\n",
    "                columns=['Merkur', 'Venus', 'Jorda', 'Månen', 'Mars', 'Jupiter', 'Saturn', 'Uranus', 'Neptun', 'Pluto'], \n",
    "                index=['Masse', 'Diameter', 'Tyngde'])\n",
    "fytab"
   ]
  },
  {
   "cell_type": "markdown",
   "metadata": {},
   "source": [
    "Vi printer tabellen for å kontrollere dataene med nettsiden. De stemmer. \n",
    "\n",
    "Vi ser at det er noen av kolonnene vi ikke trenger. Vi kommer bare til å se på planetene, så derfor fjerner vi kolonnene for månen og Pluto"
   ]
  },
  {
   "cell_type": "code",
   "execution_count": 32,
   "metadata": {},
   "outputs": [
    {
     "data": {
      "text/plain": [
       "Masse       0.0146\n",
       "Diameter      2370\n",
       "Tyngde         0.7\n",
       "Name: Pluto, dtype: object"
      ]
     },
     "execution_count": 32,
     "metadata": {},
     "output_type": "execute_result"
    }
   ],
   "source": [
    "fytab.pop('Månen')\n",
    "fytab.pop('Pluto')"
   ]
  },
  {
   "cell_type": "markdown",
   "metadata": {},
   "source": [
    "På nettsiden var ikke alle verdiene oppgitt i SI-enheter. For å regne med de gjør vi de derfor om til riktig enheter. Vi gjør samtidig listene om til floats, og diameter om til radius. "
   ]
  },
  {
   "cell_type": "code",
   "execution_count": 33,
   "metadata": {},
   "outputs": [],
   "source": [
    "fytab.loc['Masse'] = fytab.loc['Masse'].astype(float)\n",
    "fytab.loc['Masse'] *= float(10**24)\n",
    "\n",
    "fytab.loc['Diameter'] = fytab.loc['Diameter'].astype(float)\n",
    "fytab.loc['Diameter'] *= float((10**3)/2)\n",
    "\n",
    "fytab.loc['Tyngde'] = fytab.loc['Tyngde'].astype(float)"
   ]
  },
  {
   "cell_type": "markdown",
   "metadata": {},
   "source": [
    "Vi gjør så den siste delen av jobben med å fremstille tabellen, ved å endre navnene så de oppgir enheten, og printer for å kontrollere. "
   ]
  },
  {
   "cell_type": "code",
   "execution_count": 35,
   "metadata": {},
   "outputs": [
    {
     "data": {
      "text/html": [
       "<div>\n",
       "<style scoped>\n",
       "    .dataframe tbody tr th:only-of-type {\n",
       "        vertical-align: middle;\n",
       "    }\n",
       "\n",
       "    .dataframe tbody tr th {\n",
       "        vertical-align: top;\n",
       "    }\n",
       "\n",
       "    .dataframe thead th {\n",
       "        text-align: right;\n",
       "    }\n",
       "</style>\n",
       "<table border=\"1\" class=\"dataframe\">\n",
       "  <thead>\n",
       "    <tr style=\"text-align: right;\">\n",
       "      <th></th>\n",
       "      <th>Merkur</th>\n",
       "      <th>Venus</th>\n",
       "      <th>Jorda</th>\n",
       "      <th>Mars</th>\n",
       "      <th>Jupiter</th>\n",
       "      <th>Saturn</th>\n",
       "      <th>Uranus</th>\n",
       "      <th>Neptun</th>\n",
       "    </tr>\n",
       "  </thead>\n",
       "  <tbody>\n",
       "    <tr>\n",
       "      <th>Masse (kg)</th>\n",
       "      <td>3.3e+23</td>\n",
       "      <td>4.87e+24</td>\n",
       "      <td>5.97e+24</td>\n",
       "      <td>6.42e+23</td>\n",
       "      <td>1.898e+27</td>\n",
       "      <td>5.68e+26</td>\n",
       "      <td>8.68e+25</td>\n",
       "      <td>1.02e+26</td>\n",
       "    </tr>\n",
       "    <tr>\n",
       "      <th>Radius (m)</th>\n",
       "      <td>2.4395e+06</td>\n",
       "      <td>6.052e+06</td>\n",
       "      <td>6.378e+06</td>\n",
       "      <td>3.396e+06</td>\n",
       "      <td>7.1492e+07</td>\n",
       "      <td>6.0268e+07</td>\n",
       "      <td>2.5559e+07</td>\n",
       "      <td>2.4764e+07</td>\n",
       "    </tr>\n",
       "    <tr>\n",
       "      <th>Tyngde (m/s**2)</th>\n",
       "      <td>3.7</td>\n",
       "      <td>8.9</td>\n",
       "      <td>9.8</td>\n",
       "      <td>3.7</td>\n",
       "      <td>23.1</td>\n",
       "      <td>9</td>\n",
       "      <td>8.7</td>\n",
       "      <td>11</td>\n",
       "    </tr>\n",
       "  </tbody>\n",
       "</table>\n",
       "</div>"
      ],
      "text/plain": [
       "                     Merkur      Venus      Jorda       Mars     Jupiter  \\\n",
       "Masse (kg)          3.3e+23   4.87e+24   5.97e+24   6.42e+23   1.898e+27   \n",
       "Radius (m)       2.4395e+06  6.052e+06  6.378e+06  3.396e+06  7.1492e+07   \n",
       "Tyngde (m/s**2)         3.7        8.9        9.8        3.7        23.1   \n",
       "\n",
       "                     Saturn      Uranus      Neptun  \n",
       "Masse (kg)         5.68e+26    8.68e+25    1.02e+26  \n",
       "Radius (m)       6.0268e+07  2.5559e+07  2.4764e+07  \n",
       "Tyngde (m/s**2)           9         8.7          11  "
      ]
     },
     "execution_count": 35,
     "metadata": {},
     "output_type": "execute_result"
    }
   ],
   "source": [
    "fytab = fytab.rename({'Diameter': 'Radius (m)', 'Masse':'Masse (kg)', 'Tyngde':'Tyngde (m/s**2)'})\n",
    "\n",
    "fytab"
   ]
  },
  {
   "cell_type": "markdown",
   "metadata": {},
   "source": [
    "Så begynner vi på analyse-delen, hvor vi bruker formelen $g=\\gamma \\frac{M}{r^2}$"
   ]
  },
  {
   "cell_type": "markdown",
   "metadata": {},
   "source": [
    "Vi omformer formelen med hensyn på gamma til $\\gamma=\\frac{gr^2}{M}$, og regner ut gravitasjonskonstanten basert på verdiene oppgitt i tabellen på nettsiden"
   ]
  },
  {
   "cell_type": "code",
   "execution_count": 36,
   "metadata": {},
   "outputs": [
    {
     "name": "stdout",
     "output_type": "stream",
     "text": [
      "[6.672513007575757e-11, 6.693586562628337e-11, 6.67760574874372e-11, 6.646638504672896e-11, 6.220576927207588e-11, 5.755296904225352e-11, 6.547676940898617e-11, 6.613541819607844e-11]\n"
     ]
    }
   ],
   "source": [
    "#Lager liste for gravitasjonskonstantene vi regner ut, altså gammaverdiene, til planetene\n",
    "gamma_verdier = []\n",
    "\n",
    "n=0\n",
    "while True:\n",
    "    r = fytab.iat[1, n]   #Henter verdier fra tabellene\n",
    "    M = fytab.iat[0, n]\n",
    "    g = fytab.iat[2, n]\n",
    "    gamma = (g*(r**2))/(M)\n",
    "    gamma_verdier.append(gamma)\n",
    "    n+=1\n",
    "    if n >= 8:\n",
    "        break\n",
    "        \n",
    "print(gamma_verdier)"
   ]
  },
  {
   "cell_type": "markdown",
   "metadata": {},
   "source": [
    "Resten av programmet går ut på å analysere dataene vi har hentet, så vi skriver dette under \"Resultater og analyse\". "
   ]
  },
  {
   "cell_type": "markdown",
   "metadata": {},
   "source": [
    "### Resultater og analyse"
   ]
  },
  {
   "cell_type": "markdown",
   "metadata": {},
   "source": [
    "Vi ser at verdiene vi får for gamma, som skal være konstant, ikke er konstante.\n",
    "Vi lager et søylediagram over gravitasjons\"-ikke-helt-\"konstantene, for å sammenlikne verdiene vi fikk. "
   ]
  },
  {
   "cell_type": "code",
   "execution_count": 41,
   "metadata": {},
   "outputs": [
    {
     "data": {
      "image/png": "[encoded data removed]",
      "text/plain": [
       "<Figure size 432x288 with 1 Axes>"
      ]
     },
     "metadata": {},
     "output_type": "display_data"
    }
   ],
   "source": [
    "#Her trenger vi math-pakken og pyplot for å lage søylediagrammet\n",
    "import math\n",
    "import matplotlib.pyplot as plt\n",
    "\n",
    "#Vi vil vise verdiene i diagrammet, og må derfor avrunde de\n",
    "gamma_verdier_kort = [ '%.13f' % elem for elem in gamma_verdier]\n",
    "gamma_verdier_kort = [float(i) for i in gamma_verdier_kort]\n",
    "\n",
    "x = ['Merkur', 'Venus', 'Jorda',  'Mars', 'Jupiter', 'Saturn', 'Uranus', 'Neptun']\n",
    "y = gamma_verdier_kort\n",
    "\n",
    "fig, graf = plt.subplots(1)\n",
    "graf.bar(x, y, width = 0.8, color='pink')\n",
    "ymin, ymax = (5.5*10**-11), (7*10**-11) #For at søylene skal være synlige må vi sette max og min verdi\n",
    "graf.set_ylim(ymin, ymax)\n",
    "plt.xlabel('Planeter')\n",
    "plt.ylabel('Gravitasjons\"konstant\"')\n",
    "plt.xticks(rotation=90)\n",
    "\n",
    "#Viser gamma-verdiene i diagrammet\n",
    "for i, j in zip(x, y):\n",
    "    graf.annotate(str(j), xy=(i, j+(0.1*10**-11)), rotation=30)\n",
    "\n",
    "#Lager en linje for det gravitasjonskonstanten skal være, for å sammenlikne\n",
    "graf.hlines(y=(6.67*10**-11), xmin=-1, xmax=8,linewidth=2, color='r')\n",
    "plt.show()"
   ]
  },
  {
   "cell_type": "markdown",
   "metadata": {},
   "source": [
    "Av diagrammet ser vi at vi får $6.67*10^{-11}$ som $\\gamma$ for Merkur, som stemmer den faktiske verdien til $\\gamma$-konstanten. \n",
    "For de andre planetene har vi følgende avvik:\n",
    "\n",
    "| Planet     |  Avvik  |\n",
    "|---|---|\n",
    "|Merkur | 0.00 % | \n",
    "|Venus|0.30 %|\n",
    "|Jorda | 0.15 % |\n",
    "|Mars | 0.45 % |\n",
    "|Jupiter|6.70 %|\n",
    "|Saturn|13.6 %|\n",
    "|Uranus|1.80 %|\n",
    "|Neptun|0.90 % |"
   ]
  },
  {
   "cell_type": "markdown",
   "metadata": {},
   "source": [
    "Vi har altså avvik fra den egentlige konstanten gamma på 0 - 13.6 %"
   ]
  },
  {
   "cell_type": "markdown",
   "metadata": {},
   "source": [
    "Vi ser her at de største avvikene er for Jupiter og Saturn. \n",
    "Når vi sammenlikner verdiene oppgitt for tyngdeakselerasjonen for Jupiter og Saturn på nettsiden vi importerte dataene fra, med det som er oppgitt i fysikktabellene våre fra skolen, ser vi at det er betydelig avvik her. \n",
    "\n",
    "Jupiter og Saturn oppgis på nettsiden med tyngdeakselerasjon på henholdsvis  $23.1 \\frac{m}{s^2}$ og $9 \\frac{m}{s^2}$, og i fysikktabellen med $25 \\frac{m}{s^2}$ og $10 \\frac{m}{s^2}$.\n",
    "Vi erstatter verdiene for tyngdeakselerasjon fra nettsiden med de fra fysikktabellen, for å se om avviket blir mindre. "
   ]
  },
  {
   "cell_type": "code",
   "execution_count": 43,
   "metadata": {},
   "outputs": [
    {
     "name": "stdout",
     "output_type": "stream",
     "text": [
      "[6.67e-11, 6.69e-11, 6.68e-11, 6.65e-11, 6.73e-11, 6.39e-11, 6.55e-11, 6.61e-11]\n"
     ]
    }
   ],
   "source": [
    "#Her erstatter vi gamma-verdien for Jupiter og Saturn i den forkortede listen\n",
    "for n, i in enumerate(gamma_verdier_kort):\n",
    "    if i == 6.22e-11: #Erstatter for Jupiter\n",
    "        r = fytab.iat[1, 4]\n",
    "        M = fytab.iat[0, 4]\n",
    "        g = float(25)\n",
    "        gamma = (g*(r**2))/(M)\n",
    "        gamma = '%.13f' % gamma\n",
    "        gamma_verdier_kort[n] = float(gamma)\n",
    "    elif i == 5.76e-11: #Erstatter for Saturn\n",
    "        r = fytab.iat[1, 5]\n",
    "        M = fytab.iat[0, 5]\n",
    "        g = float(10)\n",
    "        gamma = (g*(r**2))/(M)\n",
    "        gamma = '%.13f' % gamma\n",
    "        gamma_verdier_kort[n] = float(gamma)\n",
    "\n",
    "print(gamma_verdier_kort)"
   ]
  },
  {
   "cell_type": "code",
   "execution_count": 57,
   "metadata": {},
   "outputs": [
    {
     "data": {
      "image/png": "[encoded data removed]",
      "text/plain": [
       "<Figure size 432x288 with 1 Axes>"
      ]
     },
     "metadata": {},
     "output_type": "display_data"
    }
   ],
   "source": [
    "#Her printer vi den nye kurven, for å sammenlikne\n",
    "fig, graf = plt.subplots(1)\n",
    "graf.bar(x, y, width = 0.8, color='#d21445')\n",
    "ymin, ymax = (5.5*10**-11), (7*10**-11)\n",
    "graf.set_ylim(ymin, ymax)\n",
    "plt.xlabel('Planeter')\n",
    "plt.ylabel('Gravitasjons\"konstant\"')\n",
    "plt.xticks(rotation=90)\n",
    "graf.hlines(y=(6.67*10**-11), xmin=-1, xmax=8,linewidth=2, color='r')\n",
    "\n",
    "for i, j in zip(x, y):\n",
    "    graf.annotate(str(j), xy=(i, j+(0.1*10**-11)), rotation=30)\n",
    "    \n",
    "plt.show()"
   ]
  },
  {
   "cell_type": "markdown",
   "metadata": {},
   "source": [
    "Vi ser at avviket nå er mye mindre. \n",
    "Setter høyere minimumsverdi, så vi kan se nærmere på diagrammet. "
   ]
  },
  {
   "cell_type": "code",
   "execution_count": 58,
   "metadata": {},
   "outputs": [
    {
     "data": {
      "image/png": "[encoded data removed]",
      "text/plain": [
       "<Figure size 432x288 with 1 Axes>"
      ]
     },
     "metadata": {},
     "output_type": "display_data"
    }
   ],
   "source": [
    "fig, graf = plt.subplots(1)\n",
    "graf.bar(x, y, width = 0.8, color='#d21445')\n",
    "ymin, ymax = (6.3*10**-11), (6.8*10**-11)\n",
    "graf.set_ylim(ymin, ymax)\n",
    "plt.xlabel('Planeter')\n",
    "plt.ylabel('Gravitasjons\"konstant\"')\n",
    "plt.xticks(rotation=90)\n",
    "graf.hlines(y=(6.67*10**-11), xmin=-1, xmax=8,linewidth=2, color='r')\n",
    "\n",
    "for i, j in zip(x, y):\n",
    "    graf.annotate(str(j), xy=(i, j+(0.1*10**-11)), rotation=30)\n",
    "    \n",
    "plt.show()"
   ]
  },
  {
   "cell_type": "markdown",
   "metadata": {},
   "source": [
    "### Diskusjon"
   ]
  },
  {
   "cell_type": "markdown",
   "metadata": {},
   "source": [
    "Av resultatene og analysen ser vi at de tilnærmede verdiene av $\\gamma$ ikke stemmer overens med verdien vi i teorien skulle få. Eventuelle feillkilder kan være at dataene til NASA er grovt avrundet. Når vi bruker så små verdier som $6.67*10^{-11}$, vil slike avrundinger påvirke resultatene. \n",
    "\n",
    "I tillegg sammenliknet vi verdiene i datsasettet vårt med verdier som oppgis i heftet _Gyldendals tabeller og formler i fysikk: Fysikk 1 og Fysikk 2_ (2011). Vi oppdaget da at disse verdiene ikke er like, som kom frem tidligere i oppgaven. For eksempel oppgis det at tyngdeakselerasjonen på Saturn er $10 \\frac{m}{s^2}$ i heftet, mens NASA oppgir at den er lik $9 \\frac{m}{s^2}$. Med gyldendals verdi blir konstanten vi regner ut $\\gamma = 6.4*10^{-11}$, som gir et avvik på 4 %, sammenliknet med et avvik på 13.6% dersom vi bruker NASAs verdier. \n",
    "\n",
    "Dette kan tyde på at de verdiene vi har hentet ikke er nøyaktige nok, og kan derfor ikke brukes til å bestemmme konstanten. "
   ]
  },
  {
   "cell_type": "markdown",
   "metadata": {},
   "source": [
    "En annen feilkilde kan være at nettsiden oppgir *gjennomsnittet* av planetenes diameter og tyngdeakselerasjon. Særlig for gassplanetene vil dette være en betydelig feilkilde, ettersom diameteren oppgis med måleusikkerhet (se kilden nederst i oppgaven). Tyngdeakselerasjonen er også gjennomsnittlig noe som kan være grunnen til at verdiene vi får er ulike. Med fysiske prinsipper i bakhodet er det naturlig at det er gjennomsnittet som oppgis fordi for gassplaneter, som Saturn og Jupiter, vil tyngdeakselerasjonen variere ettersom radien varierer. Planetene er altså ikke perfekte kuler!\n",
    "\n",
    "I tillegg er tyngdeakselerasjonen (gravitasjonsfeltstyrken) avhengig av masse, størrelse og _massetettheten_, men formelen vi bruker inneholder kun variablene masse og radius. Det tas dermed ikke hensyn til massetettheten, noe som kan påvirke ha resultatene. Formelen er ikke nødvendigvis den beste modellen for å finne gravitasjonskonstanten fordi massetettheten neglisjeres. "
   ]
  },
  {
   "cell_type": "markdown",
   "metadata": {},
   "source": [
    "Konlusjonen på problemstillingen er altså at vi _ikke_ bare kan bruke datasettet fra NASA og formelen $g=\\gamma \\frac{M}{r^2}$ for å finne gravitasjonskonstanten, fordi resultatene viser at det finnes for mange feilkilder og unøyaktigheter i utregningen, noe som får konsekvenser når vi ser på så små verdier. "
   ]
  },
  {
   "cell_type": "markdown",
   "metadata": {},
   "source": [
    "### Kilder"
   ]
  },
  {
   "cell_type": "markdown",
   "metadata": {},
   "source": [
    "Williams, Matt. _How strong is gravity on other planets?_ (01.01.16). Hentet fra [https://phys.org/news/2016-01-strong-gravity-planets.html]\n",
    "\n",
    "Aamot, Eimund og Haugan, John. _Gyldendals tabeller og formler i fysikk, Fysikk 1 og Fysikk 2_. (2011). Gyldendal, Oslo. \n",
    "\n",
    "Callin, Pålsgård, Stadsnes og Tellefsen. _Ergo Fysikk 2 Grunnbok_. (2008). H. Aschehough & Co, Oslo. "
   ]
  }
 ],
 "metadata": {
  "kernelspec": {
   "display_name": "Python 3",
   "language": "python",
   "name": "python3"
  },
  "language_info": {
   "codemirror_mode": {
    "name": "ipython",
    "version": 3
   },
   "file_extension": ".py",
   "mimetype": "text/x-python",
   "name": "python",
   "nbconvert_exporter": "python",
   "pygments_lexer": "ipython3",
   "version": "3.6.5"
  }
 },
 "nbformat": 4,
 "nbformat_minor": 2
}
